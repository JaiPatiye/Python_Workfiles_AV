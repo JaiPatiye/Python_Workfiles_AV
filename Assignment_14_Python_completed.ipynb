{
  "nbformat": 4,
  "nbformat_minor": 0,
  "metadata": {
    "kernelspec": {
      "display_name": "Python 3",
      "language": "python",
      "name": "python3"
    },
    "language_info": {
      "codemirror_mode": {
        "name": "ipython",
        "version": 3
      },
      "file_extension": ".py",
      "mimetype": "text/x-python",
      "name": "python",
      "nbconvert_exporter": "python",
      "pygments_lexer": "ipython3",
      "version": "3.7.4"
    },
    "colab": {
      "name": "Assignment 3.ipynb",
      "provenance": []
    }
  },
  "cells": [
    {
      "cell_type": "markdown",
      "metadata": {
        "id": "qtiwJ6nuznrF"
      },
      "source": [
        "### Q1) Write a function to multiply all the numbers in a list."
      ]
    },
    {
      "cell_type": "code",
      "metadata": {
        "colab": {
          "base_uri": "https://localhost:8080/"
        },
        "id": "ouvwvjQYznrI",
        "outputId": "c238185a-ebe0-4502-c096-ab57ed5481b2"
      },
      "source": [
        "## Your code here\n",
        "\n",
        "def multiply(numbers):\n",
        "  total = 1\n",
        "  for x in numbers:\n",
        "    total *= x\n",
        "  return total\n",
        "  \n",
        "print(multiply((7,9,8)))\n",
        "\n"
      ],
      "execution_count": 8,
      "outputs": [
        {
          "output_type": "stream",
          "text": [
            "504\n"
          ],
          "name": "stdout"
        }
      ]
    },
    {
      "cell_type": "markdown",
      "metadata": {
        "id": "eeWqxljNznrK"
      },
      "source": [
        "### Q2) Write a Python function to calculate the factorial of a number (a non-negative integer). The function accepts the number as an argument.\n",
        "\n",
        "\n"
      ]
    },
    {
      "cell_type": "code",
      "metadata": {
        "colab": {
          "base_uri": "https://localhost:8080/"
        },
        "id": "Xv5_xHbqznrK",
        "outputId": "00e587cb-1685-4a8f-bc56-bdf1ca5a379b"
      },
      "source": [
        "## Your code here\n",
        "\n",
        "def factorial(n):\n",
        "    if n == 0:\n",
        "        return 1\n",
        "    else:\n",
        "        return n * factorial(n-1)\n",
        "n=int(input(\"Input a number to compute the factiorial : \"))\n",
        "print(factorial(8))\n",
        "\n"
      ],
      "execution_count": 9,
      "outputs": [
        {
          "output_type": "stream",
          "text": [
            "Input a number to compute the factiorial : 8\n",
            "40320\n"
          ],
          "name": "stdout"
        }
      ]
    },
    {
      "cell_type": "markdown",
      "metadata": {
        "id": "KYhIQKUqznrL"
      },
      "source": [
        "### Q3) Write a Python function that accepts a string and calculate the number of upper case letters and lower case letters.\n",
        "\n",
        "\n"
      ]
    },
    {
      "cell_type": "code",
      "metadata": {
        "colab": {
          "base_uri": "https://localhost:8080/"
        },
        "id": "88zx5MDFznrL",
        "outputId": "9865c3f1-b23d-4608-91de-c8e4dd0a5d5f"
      },
      "source": [
        "## Your code here\n",
        "\n",
        "def string_test(s):\n",
        "    d={\"UPPER_CASE\":0, \"LOWER_CASE\":0}\n",
        "    for c in s:\n",
        "        if c.isupper():\n",
        "           d[\"UPPER_CASE\"]+=1\n",
        "        elif c.islower():\n",
        "           d[\"LOWER_CASE\"]+=1\n",
        "        else:\n",
        "           pass\n",
        "    print (\"Original String : \", s)\n",
        "    print (\"No. of Upper case characters : \", d[\"UPPER_CASE\"])\n",
        "    print (\"No. of Lower case Characters : \", d[\"LOWER_CASE\"])\n",
        "\n",
        "string_test('I am interning at Analytics Vidhya')  \n",
        "\n"
      ],
      "execution_count": 14,
      "outputs": [
        {
          "output_type": "stream",
          "text": [
            "Original String :  I am interning at Analytics Vidhya\n",
            "No. of Upper case characters :  3\n",
            "No. of Lower case Characters :  26\n"
          ],
          "name": "stdout"
        }
      ]
    },
    {
      "cell_type": "markdown",
      "metadata": {
        "id": "udL9lNobznrM"
      },
      "source": [
        "### Q4) Write a Python function that takes a list and returns a new list with unique elements of the first list.\n",
        "\n",
        "\n",
        "\n"
      ]
    },
    {
      "cell_type": "code",
      "metadata": {
        "colab": {
          "base_uri": "https://localhost:8080/"
        },
        "id": "P39uc_eJznrM",
        "outputId": "0b24ddf1-51dd-44ad-a87a-b58632bcdece"
      },
      "source": [
        "## Your code here\n",
        "\n",
        "def unique_list(l):\n",
        "    x = []\n",
        "    for a in l:\n",
        "        if a not in x:\n",
        "            x.append(a)\n",
        "    return x \n",
        "\n",
        "print(unique_list([2,2,4,5,6,6,6,8,8,8]))            "
      ],
      "execution_count": 15,
      "outputs": [
        {
          "output_type": "stream",
          "text": [
            "[2, 4, 5, 6, 8]\n"
          ],
          "name": "stdout"
        }
      ]
    },
    {
      "cell_type": "markdown",
      "metadata": {
        "id": "Z6P2-wkLznrN"
      },
      "source": [
        "### Q5) Write a Python program to print the even numbers from a given list.\n",
        "\n",
        "\n"
      ]
    },
    {
      "cell_type": "code",
      "metadata": {
        "colab": {
          "base_uri": "https://localhost:8080/"
        },
        "id": "5NYMI-RoznrN",
        "outputId": "3d661481-09e1-4e55-96aa-5a58ff527513"
      },
      "source": [
        "## Your code here\n",
        "\n",
        "def is_even_num(l):\n",
        "    enum = []\n",
        "    for n in l:\n",
        "        if n % 2 == 0:\n",
        "            enum.append(n)\n",
        "    return enum\n",
        "print(is_even_num([1,2,3,4,5,6,7,8,9,0]))            "
      ],
      "execution_count": 16,
      "outputs": [
        {
          "output_type": "stream",
          "text": [
            "[2, 4, 6, 8, 0]\n"
          ],
          "name": "stdout"
        }
      ]
    },
    {
      "cell_type": "markdown",
      "metadata": {
        "id": "JMDPjOjJznrO"
      },
      "source": [
        "### Q6) Write a function to remove all duplicates from a given string.\n",
        "\n",
        "\n"
      ]
    },
    {
      "cell_type": "code",
      "metadata": {
        "colab": {
          "base_uri": "https://localhost:8080/"
        },
        "id": "W48h6IVaznrO",
        "outputId": "adf25b24-3dd1-40fd-a75f-b90ba04d17fa"
      },
      "source": [
        "## Your code here\n",
        "\n",
        "def removeDuplicate(str):\n",
        "    s=set(str)\n",
        "    s=\"\".join(s)\n",
        "    print(\"Without Order:\",s)\n",
        "    t=\"\"\n",
        "    for i in str:\n",
        "        if(i in t):\n",
        "            pass\n",
        "        else:\n",
        "            t=t+i\n",
        "        print(\"With Order:\",t)\n",
        "      \n",
        "str=\"Analytics Vidhya is the best\"\n",
        "removeDuplicate(str)\n",
        "\n"
      ],
      "execution_count": 17,
      "outputs": [
        {
          "output_type": "stream",
          "text": [
            "Without Order: Adahy etilcbVns\n",
            "With Order: A\n",
            "With Order: An\n",
            "With Order: Ana\n",
            "With Order: Anal\n",
            "With Order: Analy\n",
            "With Order: Analyt\n",
            "With Order: Analyti\n",
            "With Order: Analytic\n",
            "With Order: Analytics\n",
            "With Order: Analytics \n",
            "With Order: Analytics V\n",
            "With Order: Analytics V\n",
            "With Order: Analytics Vd\n",
            "With Order: Analytics Vdh\n",
            "With Order: Analytics Vdh\n",
            "With Order: Analytics Vdh\n",
            "With Order: Analytics Vdh\n",
            "With Order: Analytics Vdh\n",
            "With Order: Analytics Vdh\n",
            "With Order: Analytics Vdh\n",
            "With Order: Analytics Vdh\n",
            "With Order: Analytics Vdh\n",
            "With Order: Analytics Vdhe\n",
            "With Order: Analytics Vdhe\n",
            "With Order: Analytics Vdheb\n",
            "With Order: Analytics Vdheb\n",
            "With Order: Analytics Vdheb\n",
            "With Order: Analytics Vdheb\n"
          ],
          "name": "stdout"
        }
      ]
    },
    {
      "cell_type": "code",
      "metadata": {
        "id": "e-0Fxo0KznrO"
      },
      "source": [
        ""
      ],
      "execution_count": null,
      "outputs": []
    }
  ]
}